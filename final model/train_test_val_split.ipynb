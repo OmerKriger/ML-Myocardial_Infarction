{
 "cells": [
  {
   "cell_type": "code",
   "execution_count": 1,
   "metadata": {},
   "outputs": [],
   "source": [
    "from sklearn.model_selection import train_test_split\n",
    "import pandas as pd\n",
    "from tqdm import tqdm"
   ]
  },
  {
   "cell_type": "code",
   "execution_count": 3,
   "metadata": {},
   "outputs": [],
   "source": [
    "dataset_path = r'../utilfiles/all_dataset_extended_noNulls.csv'"
   ]
  },
  {
   "cell_type": "code",
   "execution_count": 6,
   "metadata": {},
   "outputs": [],
   "source": [
    "eid_df = pd.read_csv(dataset_path, usecols=['eid'])"
   ]
  },
  {
   "cell_type": "code",
   "execution_count": 11,
   "metadata": {},
   "outputs": [],
   "source": [
    "train_val_eids, test_eids = train_test_split(eid_df, test_size=0.2, random_state=42) "
   ]
  },
  {
   "cell_type": "code",
   "execution_count": 14,
   "metadata": {},
   "outputs": [],
   "source": [
    "train_eids, val_eids = train_test_split(train_val_eids, test_size=0.125)"
   ]
  },
  {
   "cell_type": "code",
   "execution_count": 20,
   "metadata": {},
   "outputs": [],
   "source": [
    "eid_test_set = set(test_eids['eid'].to_list())\n",
    "del test_eids\n",
    "\n",
    "eid_train_set = set(train_eids['eid'].to_list())\n",
    "del train_eids\n",
    "\n",
    "eid_val_set = set(val_eids['eid'].to_list())\n",
    "del val_eids"
   ]
  },
  {
   "cell_type": "code",
   "execution_count": 4,
   "metadata": {},
   "outputs": [],
   "source": [
    "chunk_size = 1000  # Adjust this based on your system's memory capacity\n",
    "train_file_path = r'../utilfiles/train_test_val_files/train_set_noNulls.csv'\n",
    "test_file_path = r'../utilfiles/train_test_val_files/test_set_noNulls.csv'\n",
    "val_file_path = r'../utilfiles/train_test_val_files/val_set_noNulls.csv'\n",
    "write_mode = 'w'\n",
    "iter_df = pd.read_csv(dataset_path, chunksize = 1000, low_memory=False)"
   ]
  },
  {
   "cell_type": "code",
   "execution_count": 24,
   "metadata": {},
   "outputs": [
    {
     "name": "stderr",
     "output_type": "stream",
     "text": [
      "492it [01:54,  4.31it/s]\n"
     ]
    }
   ],
   "source": [
    "for chunk in tqdm(iter_df):\n",
    "    chunk[chunk['eid'].isin(eid_train_set)].to_csv(train_file_path, mode=write_mode, index=False, header=(write_mode == 'w'))\n",
    "    chunk[chunk['eid'].isin(eid_test_set)].to_csv(test_file_path, mode=write_mode, index=False, header=(write_mode == 'w'))\n",
    "    chunk[chunk['eid'].isin(eid_val_set)].to_csv(val_file_path, mode=write_mode, index=False, header=(write_mode == 'w'))\n",
    "    write_mode = 'a'\n",
    "    del chunk"
   ]
  },
  {
   "cell_type": "code",
   "execution_count": null,
   "metadata": {},
   "outputs": [],
   "source": []
  }
 ],
 "metadata": {
  "kernelspec": {
   "display_name": "bioEnv",
   "language": "python",
   "name": "python3"
  },
  "language_info": {
   "codemirror_mode": {
    "name": "ipython",
    "version": 3
   },
   "file_extension": ".py",
   "mimetype": "text/x-python",
   "name": "python",
   "nbconvert_exporter": "python",
   "pygments_lexer": "ipython3",
   "version": "3.10.7"
  }
 },
 "nbformat": 4,
 "nbformat_minor": 2
}
